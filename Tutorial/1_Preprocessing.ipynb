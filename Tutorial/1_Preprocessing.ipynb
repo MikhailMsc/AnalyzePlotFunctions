{
 "cells": [
  {
   "cell_type": "code",
   "execution_count": 1,
   "id": "adbd5395-2708-470d-96a6-c53da2480790",
   "metadata": {},
   "outputs": [
    {
     "name": "stdout",
     "output_type": "stream",
     "text": [
      "3.13.2 (main, Feb  4 2025, 14:51:09) [Clang 16.0.0 (clang-1600.0.26.6)]\n"
     ]
    }
   ],
   "source": [
    "import sys\n",
    "import os\n",
    "\n",
    "import pandas as pd\n",
    "# import polars as pl\n",
    "\n",
    "from matplotlib import pyplot as plt\n",
    "%matplotlib inline  \n",
    "\n",
    "sys.path.append('/Users/mihail/Documents/repos/analyzer')\n",
    "print(sys.version)\n",
    "\n",
    "from analyzer.preprocessing import (\n",
    "    get_var_cutoffs, get_all_vars_cutoffs, binarize_series, BinningParams,\n",
    "    preprocess_df, MapDictSingleVar, MapDictMultiVars, BinningParamsMultiVars\n",
    ")"
   ]
  },
  {
   "cell_type": "markdown",
   "id": "018c2d80-e3d8-4fc5-9c8f-96c46a6edde5",
   "metadata": {},
   "source": [
    "# Подготовка\n",
    "Загрузим датафрейм, на котором продемонстрируем функционал."
   ]
  },
  {
   "cell_type": "code",
   "execution_count": 2,
   "id": "803d7bee-92a1-4105-b196-32c519b7ff29",
   "metadata": {
    "scrolled": true
   },
   "outputs": [
    {
     "data": {
      "text/html": [
       "<div>\n",
       "<style scoped>\n",
       "    .dataframe tbody tr th:only-of-type {\n",
       "        vertical-align: middle;\n",
       "    }\n",
       "\n",
       "    .dataframe tbody tr th {\n",
       "        vertical-align: top;\n",
       "    }\n",
       "\n",
       "    .dataframe thead th {\n",
       "        text-align: right;\n",
       "    }\n",
       "</style>\n",
       "<table border=\"1\" class=\"dataframe\">\n",
       "  <thead>\n",
       "    <tr style=\"text-align: right;\">\n",
       "      <th></th>\n",
       "      <th>PassengerId</th>\n",
       "      <th>Survived</th>\n",
       "      <th>Pclass</th>\n",
       "      <th>Name</th>\n",
       "      <th>Sex</th>\n",
       "      <th>Age</th>\n",
       "      <th>SibSp</th>\n",
       "      <th>Parch</th>\n",
       "      <th>Ticket</th>\n",
       "      <th>Fare</th>\n",
       "      <th>Cabin</th>\n",
       "      <th>Embarked</th>\n",
       "    </tr>\n",
       "  </thead>\n",
       "  <tbody>\n",
       "    <tr>\n",
       "      <th>0</th>\n",
       "      <td>1</td>\n",
       "      <td>0</td>\n",
       "      <td>3</td>\n",
       "      <td>Braund, Mr. Owen Harris</td>\n",
       "      <td>male</td>\n",
       "      <td>22.0</td>\n",
       "      <td>1</td>\n",
       "      <td>0</td>\n",
       "      <td>A/5 21171</td>\n",
       "      <td>7.2500</td>\n",
       "      <td>NaN</td>\n",
       "      <td>S</td>\n",
       "    </tr>\n",
       "    <tr>\n",
       "      <th>1</th>\n",
       "      <td>2</td>\n",
       "      <td>1</td>\n",
       "      <td>1</td>\n",
       "      <td>Cumings, Mrs. John Bradley (Florence Briggs Th...</td>\n",
       "      <td>female</td>\n",
       "      <td>38.0</td>\n",
       "      <td>1</td>\n",
       "      <td>0</td>\n",
       "      <td>PC 17599</td>\n",
       "      <td>71.2833</td>\n",
       "      <td>C85</td>\n",
       "      <td>C</td>\n",
       "    </tr>\n",
       "  </tbody>\n",
       "</table>\n",
       "</div>"
      ],
      "text/plain": [
       "   PassengerId  Survived  Pclass  \\\n",
       "0            1         0       3   \n",
       "1            2         1       1   \n",
       "\n",
       "                                                Name     Sex   Age  SibSp  \\\n",
       "0                            Braund, Mr. Owen Harris    male  22.0      1   \n",
       "1  Cumings, Mrs. John Bradley (Florence Briggs Th...  female  38.0      1   \n",
       "\n",
       "   Parch     Ticket     Fare Cabin Embarked  \n",
       "0      0  A/5 21171   7.2500   NaN        S  \n",
       "1      0   PC 17599  71.2833   C85        C  "
      ]
     },
     "execution_count": 2,
     "metadata": {},
     "output_type": "execute_result"
    }
   ],
   "source": [
    "df = pd.read_csv('/Users/mihail/Documents/repos/analyzer/tests/Titanic-Dataset.csv')\n",
    "df.head(2)"
   ]
  },
  {
   "cell_type": "code",
   "execution_count": 3,
   "id": "47b03caa-4296-4b60-af0b-868983d8fcb7",
   "metadata": {},
   "outputs": [
    {
     "data": {
      "text/plain": [
       "(891, 12)"
      ]
     },
     "execution_count": 3,
     "metadata": {},
     "output_type": "execute_result"
    }
   ],
   "source": [
    "df.shape"
   ]
  },
  {
   "cell_type": "code",
   "execution_count": 4,
   "id": "fd37a6a8-25b7-4cc5-9643-8fa87684091e",
   "metadata": {
    "scrolled": true
   },
   "outputs": [
    {
     "data": {
      "text/plain": [
       "Survived\n",
       "0    549\n",
       "1    342\n",
       "Name: count, dtype: int64"
      ]
     },
     "execution_count": 4,
     "metadata": {},
     "output_type": "execute_result"
    }
   ],
   "source": [
    "df['Survived'].value_counts()"
   ]
  },
  {
   "cell_type": "markdown",
   "id": "04e0c2b7-fb5b-4fe2-b15a-5ab42f40bde3",
   "metadata": {},
   "source": [
    "# Функционал"
   ]
  },
  {
   "cell_type": "markdown",
   "id": "bf3f277a-9b0d-47f7-86c3-3c8df7390dfe",
   "metadata": {},
   "source": [
    "## get_var_cutoffs\n",
    "Функция возвращает точки бининга для одной переменной (только числовой!)."
   ]
  },
  {
   "cell_type": "code",
   "execution_count": 5,
   "id": "5bad81ea-d322-48c8-9562-1b1fe072cbcd",
   "metadata": {},
   "outputs": [
    {
     "data": {
      "text/plain": [
       "\u001b[31mSignature:\u001b[39m\n",
       "get_var_cutoffs(\n",
       "    variable: ~Series,\n",
       "    target: ~Series = \u001b[38;5;28;01mNone\u001b[39;00m,\n",
       "    bin_params: analyzer.preprocessing.binning.params.BinningParams = BinningParams(min_prc=\u001b[32m15.0\u001b[39m, rnd=\u001b[38;5;28;01mNone\u001b[39;00m, cutoffs=\u001b[38;5;28;01mNone\u001b[39;00m),\n",
       "    _validate_target: bool = \u001b[38;5;28;01mTrue\u001b[39;00m,\n",
       "    _var_name: str = \u001b[33m''\u001b[39m,\n",
       "    _raise_not_numeric: bool = \u001b[38;5;28;01mTrue\u001b[39;00m,\n",
       ") -> list\n",
       "\u001b[31mDocstring:\u001b[39m\n",
       "Расчет точек бинаризации числовой переменной.\n",
       "Args:\n",
       "    variable:           переменная для бинаризации\n",
       "    target:             таргет для бинаризации, опционален\n",
       "    bin_params:         параметры для бининга\n",
       "    _validate_target:   проверка таргета на бинарность.\n",
       "    _var_name:          название переменной, вспомогательный параметр,\n",
       "        помогает отслеживать выполнение функции на конкретной переменной (будет принтиться ее нейминг в логе)\n",
       "    _raise_not_numeric: поднимать исключение если переменная не числовая, скрытый параметр\n",
       "\n",
       "Returns:\n",
       "    list:               числа (точки бинаризации) + спец значения (MIN, MAX)\n",
       "\u001b[31mFile:\u001b[39m      ~/Documents/repos/analyzer/analyzer/preprocessing/binning/cutoffs.py\n",
       "\u001b[31mType:\u001b[39m      function"
      ]
     },
     "metadata": {},
     "output_type": "display_data"
    }
   ],
   "source": [
    "?get_var_cutoffs"
   ]
  },
  {
   "cell_type": "code",
   "execution_count": 6,
   "id": "14829930-3e50-498b-a4a6-e46e2d5d7f5d",
   "metadata": {},
   "outputs": [
    {
     "data": {
      "text/plain": [
       "['-inf', 18, 24, 30, 39, 'inf']"
      ]
     },
     "execution_count": 6,
     "metadata": {},
     "output_type": "execute_result"
    }
   ],
   "source": [
    "# Бининг без оглядки на таргет\n",
    "cutooffs = get_var_cutoffs(df['Age'])\n",
    "cutooffs"
   ]
  },
  {
   "cell_type": "code",
   "execution_count": 7,
   "id": "c3ac06f2-c178-4fb5-813e-fd448c47b532",
   "metadata": {},
   "outputs": [
    {
     "data": {
      "text/plain": [
       "['-inf', 18.5, 26.5, 36.25, 'inf']"
      ]
     },
     "execution_count": 7,
     "metadata": {},
     "output_type": "execute_result"
    }
   ],
   "source": [
    "# Бининг с оглядкой на таргет\n",
    "cutooffs = get_var_cutoffs(df['Age'], df['Survived'])\n",
    "cutooffs"
   ]
  },
  {
   "cell_type": "code",
   "execution_count": 8,
   "id": "93d26328-24d6-4b95-89a8-7ca28e45a768",
   "metadata": {},
   "outputs": [
    {
     "data": {
      "text/plain": [
       "['-inf', 24.25, 'inf']"
      ]
     },
     "execution_count": 8,
     "metadata": {},
     "output_type": "execute_result"
    }
   ],
   "source": [
    "# Бининг с измененным размером минимального бакета\n",
    "cutooffs = get_var_cutoffs(df['Age'], df['Survived'], bin_params=BinningParams(min_prc=25))\n",
    "cutooffs"
   ]
  },
  {
   "cell_type": "code",
   "execution_count": 9,
   "id": "9116cdfe-c8ed-4e81-9dc4-dacd383b3849",
   "metadata": {},
   "outputs": [
    {
     "ename": "Exception",
     "evalue": "Вы хотите применить алгоритм категоризации к нечисловой переменной.",
     "output_type": "error",
     "traceback": [
      "\u001b[31m---------------------------------------------------------------------------\u001b[39m",
      "\u001b[31mException\u001b[39m                                 Traceback (most recent call last)",
      "\u001b[36mCell\u001b[39m\u001b[36m \u001b[39m\u001b[32mIn[9]\u001b[39m\u001b[32m, line 1\u001b[39m\n\u001b[32m----> \u001b[39m\u001b[32m1\u001b[39m cutooffs = \u001b[43mget_var_cutoffs\u001b[49m\u001b[43m(\u001b[49m\u001b[43mdf\u001b[49m\u001b[43m[\u001b[49m\u001b[33;43m'\u001b[39;49m\u001b[33;43mSex\u001b[39;49m\u001b[33;43m'\u001b[39;49m\u001b[43m]\u001b[49m\u001b[43m)\u001b[49m\n",
      "\u001b[36mFile \u001b[39m\u001b[32m~/Documents/repos/analyzer/analyzer/preprocessing/binning/cutoffs.py:77\u001b[39m, in \u001b[36mget_var_cutoffs\u001b[39m\u001b[34m(variable, target, bin_params, _validate_target, _var_name, _raise_not_numeric)\u001b[39m\n\u001b[32m     58\u001b[39m \u001b[38;5;28;01mdef\u001b[39;00m\u001b[38;5;250m \u001b[39m\u001b[34mget_var_cutoffs\u001b[39m(\n\u001b[32m     59\u001b[39m         variable: Series, target: Series = \u001b[38;5;28;01mNone\u001b[39;00m, bin_params: BinningParams = DEFAULT_BIN_PARAMS,\n\u001b[32m     60\u001b[39m         _validate_target: \u001b[38;5;28mbool\u001b[39m = \u001b[38;5;28;01mTrue\u001b[39;00m, _var_name: \u001b[38;5;28mstr\u001b[39m = \u001b[33m'\u001b[39m\u001b[33m'\u001b[39m,\n\u001b[32m     61\u001b[39m         _raise_not_numeric: \u001b[38;5;28mbool\u001b[39m = \u001b[38;5;28;01mTrue\u001b[39;00m\n\u001b[32m     62\u001b[39m ) -> \u001b[38;5;28mlist\u001b[39m:\n\u001b[32m     63\u001b[39m \u001b[38;5;250m    \u001b[39m\u001b[33;03m\"\"\"\u001b[39;00m\n\u001b[32m     64\u001b[39m \u001b[33;03m    Расчет точек бинаризации числовой переменной.\u001b[39;00m\n\u001b[32m     65\u001b[39m \u001b[33;03m    Args:\u001b[39;00m\n\u001b[32m   (...)\u001b[39m\u001b[32m     75\u001b[39m \u001b[33;03m        list:               числа (точки бинаризации) + спец значения (MIN, MAX)\u001b[39;00m\n\u001b[32m     76\u001b[39m \u001b[33;03m    \"\"\"\u001b[39;00m\n\u001b[32m---> \u001b[39m\u001b[32m77\u001b[39m     is_valid = \u001b[43mvalidate_column_for_binning\u001b[49m\u001b[43m(\u001b[49m\u001b[43mvariable\u001b[49m\u001b[43m,\u001b[49m\u001b[43m \u001b[49m\u001b[43m_var_name\u001b[49m\u001b[43m,\u001b[49m\u001b[43m \u001b[49m\u001b[43m_raise_not_numeric\u001b[49m\u001b[43m)\u001b[49m\n\u001b[32m     78\u001b[39m     \u001b[38;5;28;01mif\u001b[39;00m \u001b[38;5;129;01mnot\u001b[39;00m is_valid:\n\u001b[32m     79\u001b[39m         \u001b[38;5;28;01mreturn\u001b[39;00m []\n",
      "\u001b[36mFile \u001b[39m\u001b[32m~/Documents/repos/analyzer/analyzer/utils/domain/validate.py:24\u001b[39m, in \u001b[36mvalidate_column_for_binning\u001b[39m\u001b[34m(series, var_name, raise_exception)\u001b[39m\n\u001b[32m     19\u001b[39m \u001b[38;5;28;01mif\u001b[39;00m raise_exception:\n\u001b[32m     20\u001b[39m     error_msg = (\n\u001b[32m     21\u001b[39m             (\u001b[33mf\u001b[39m\u001b[33m'\u001b[39m\u001b[33mVariable = \u001b[39m\u001b[38;5;132;01m{\u001b[39;00mvar_name\u001b[38;5;132;01m}\u001b[39;00m\u001b[33m: \u001b[39m\u001b[33m'\u001b[39m \u001b[38;5;28;01mif\u001b[39;00m var_name \u001b[38;5;28;01melse\u001b[39;00m \u001b[33m'\u001b[39m\u001b[33m'\u001b[39m) +\n\u001b[32m     22\u001b[39m             \u001b[33m'\u001b[39m\u001b[33mВы хотите применить алгоритм категоризации к нечисловой переменной.\u001b[39m\u001b[33m'\u001b[39m\n\u001b[32m     23\u001b[39m     )\n\u001b[32m---> \u001b[39m\u001b[32m24\u001b[39m     \u001b[38;5;28;01mraise\u001b[39;00m \u001b[38;5;167;01mException\u001b[39;00m(error_msg)\n\u001b[32m     25\u001b[39m \u001b[38;5;28;01melse\u001b[39;00m:\n\u001b[32m     26\u001b[39m     \u001b[38;5;28;01mreturn\u001b[39;00m \u001b[38;5;28;01mFalse\u001b[39;00m\n",
      "\u001b[31mException\u001b[39m: Вы хотите применить алгоритм категоризации к нечисловой переменной."
     ]
    }
   ],
   "source": [
    "cutooffs = get_var_cutoffs(df['Sex'])"
   ]
  },
  {
   "cell_type": "markdown",
   "id": "b6b07bad-a293-42ba-928b-e3c965ce46b6",
   "metadata": {},
   "source": [
    "## get_all_vars_cutoffs\n",
    "\n",
    "Функция для получения точек бинаризации по множеству переменных (колонок)."
   ]
  },
  {
   "cell_type": "code",
   "execution_count": null,
   "id": "d859fcb6-6373-455c-8fe0-a6e462273605",
   "metadata": {},
   "outputs": [],
   "source": [
    "?get_all_vars_cutoffs"
   ]
  },
  {
   "cell_type": "code",
   "execution_count": null,
   "id": "2a911158-5581-4bef-a702-01e2d976ab72",
   "metadata": {},
   "outputs": [],
   "source": [
    "get_all_vars_cutoffs(df)"
   ]
  },
  {
   "cell_type": "markdown",
   "id": "c8a55ada-7f45-438e-a610-e4ed1167818b",
   "metadata": {},
   "source": [
    "## binarize_series\n",
    "Функция бинаризации Series."
   ]
  },
  {
   "cell_type": "code",
   "execution_count": null,
   "id": "659d0aca-6b58-454c-a365-d6fe09b0bc56",
   "metadata": {},
   "outputs": [],
   "source": [
    "?binarize_series"
   ]
  },
  {
   "cell_type": "code",
   "execution_count": null,
   "id": "33ef25ec-d24c-431f-a5aa-5537bc4338f8",
   "metadata": {},
   "outputs": [],
   "source": [
    "bin_ser = binarize_series(df['Age'])\n",
    "bin_ser.head()"
   ]
  },
  {
   "cell_type": "code",
   "execution_count": 10,
   "id": "33b2980b-38a1-44d3-ba37-6e3e225cad7f",
   "metadata": {},
   "outputs": [
    {
     "data": {
      "text/plain": [
       "0     (18.5; 26.5]\n",
       "1          > 36.25\n",
       "2     (18.5; 26.5]\n",
       "3    (26.5; 36.25]\n",
       "4    (26.5; 36.25]\n",
       "Name: Age, dtype: category\n",
       "Categories (5, object): ['__MISSING__' < '<= 18.5' < '(18.5; 26.5]' < '(26.5; 36.25]' < '> 36.25']"
      ]
     },
     "execution_count": 10,
     "metadata": {},
     "output_type": "execute_result"
    }
   ],
   "source": [
    "bin_ser = binarize_series(df['Age'], df['Survived'])\n",
    "bin_ser.head()"
   ]
  },
  {
   "cell_type": "code",
   "execution_count": 11,
   "id": "0efcfed6-4165-460c-9dbb-6a346f9fdfff",
   "metadata": {},
   "outputs": [
    {
     "data": {
      "text/plain": [
       "0    <= 24.25\n",
       "1     > 24.25\n",
       "2     > 24.25\n",
       "3     > 24.25\n",
       "4     > 24.25\n",
       "Name: Age, dtype: category\n",
       "Categories (3, object): ['__MISSING__' < '<= 24.25' < '> 24.25']"
      ]
     },
     "execution_count": 11,
     "metadata": {},
     "output_type": "execute_result"
    }
   ],
   "source": [
    "bin_ser = binarize_series(df['Age'], df['Survived'], bin_params=BinningParams(min_prc=25))\n",
    "bin_ser.head()"
   ]
  },
  {
   "cell_type": "code",
   "execution_count": 12,
   "id": "4639b60d-6d19-4485-997d-5cca9c67f44b",
   "metadata": {},
   "outputs": [
    {
     "data": {
      "text/plain": [
       "0    (20; 40]\n",
       "1    (20; 40]\n",
       "2    (20; 40]\n",
       "3    (20; 40]\n",
       "4    (20; 40]\n",
       "Name: Age, dtype: category\n",
       "Categories (5, object): ['__MISSING__' < '<= 10' < '(10; 20]' < '(20; 40]' < '> 40']"
      ]
     },
     "execution_count": 12,
     "metadata": {},
     "output_type": "execute_result"
    }
   ],
   "source": [
    "bin_ser = binarize_series(df['Age'], df['Survived'], bin_params=BinningParams(cutoffs=[10,20,40]))\n",
    "bin_ser.head()"
   ]
  },
  {
   "cell_type": "markdown",
   "id": "ef6eae3d-9e3a-4317-99ae-6262074f880f",
   "metadata": {},
   "source": [
    "## preprocess_df\n",
    "Функция препроцессинга датафрейма - замена пустых значений, бинаризация, мэппинг значений."
   ]
  },
  {
   "cell_type": "code",
   "execution_count": 13,
   "id": "067d28cf-4eb8-42d3-afbe-b83451c41628",
   "metadata": {},
   "outputs": [
    {
     "data": {
      "text/plain": [
       "\u001b[31mSignature:\u001b[39m\n",
       "preprocess_df(\n",
       "    df: ~DataFrame,\n",
       "    process_vars: List[str] = \u001b[38;5;28;01mNone\u001b[39;00m,\n",
       "    ignore_vars: List[str] = \u001b[38;5;28;01mNone\u001b[39;00m,\n",
       "    target_name: str = \u001b[38;5;28;01mNone\u001b[39;00m,\n",
       "    binning: Union[Dict[str, Union[analyzer.preprocessing.binning.params.BinningParams, bool]], bool, analyzer.preprocessing.binning.params.BinningParams, List[str]] = \u001b[38;5;28;01mTrue\u001b[39;00m,\n",
       "    map_values: Dict[~Variable, Dict[~OldValue, ~NewValue]] = \u001b[38;5;28;01mNone\u001b[39;00m,\n",
       "    drop_not_processed: bool = \u001b[38;5;28;01mFalse\u001b[39;00m,\n",
       "    _validate_target: bool = \u001b[38;5;28;01mTrue\u001b[39;00m,\n",
       "    _copy: bool = \u001b[38;5;28;01mTrue\u001b[39;00m,\n",
       "    _bin_by_target: bool = \u001b[38;5;28;01mTrue\u001b[39;00m,\n",
       "    _tqdm: bool = \u001b[38;5;28;01mTrue\u001b[39;00m,\n",
       ") -> ~DataFrame\n",
       "\u001b[31mDocstring:\u001b[39m\n",
       "Функция препроцессинга датафрейма - замена пустых значений, бинаризация, мэппинг значений.\n",
       "\n",
       "Args:\n",
       "    df:                 Датафрейм для препроцессинга\n",
       "    process_vars:       Список переменных для препроцессинга, если ничего не задать, то будут все переменные,\n",
       "                        кроме таргета и игнорируемых переменных\n",
       "    ignore_vars:        Список игнорируемых переменных во время препроцессинга, опционально\n",
       "    target_name:        Имя таргета, опционально\n",
       "    binning:            Параметры для биннинга, ниже будет более подробное описание.\n",
       "    map_values:         Словарь для замены значений переменных (словарь, ключ = название переменной,\n",
       "                        значение = словарь старое-новое значение)\n",
       "    drop_not_processed: Дропнуть колонки, которые не участвуют в биннинге.\n",
       "    _validate_target:   Проверка таргета на бинарность. Скрытый параметр.\n",
       "    _copy:              Скрытый параметр. Делать биннинг на копии датафрейма (гарантия что исходный\n",
       "                        датафрейм не будет изменен)\n",
       "    _bin_by_target:     Скрытый параметр. Бинаризовать на основе таргета, если он задан.\n",
       "    _tqdm:              Скрытый параметр. Отображать прогрессбар\n",
       "\n",
       "Вариации binning:\n",
       "    - binning = True, будет применен применен дефолтный биннинг\n",
       "    - binning = False, не применять биннинг\n",
       "    - binning = BinningParams(min_prc=20), применить биннинг с такими характеристиками для всех переменных\n",
       "    - binning = ['Var_1', 'Var_2', ...], будет применен применен дефолтный биннинг для переменных из списка.\n",
       "    - binning = {'Var_1': True, 'Var_2': BinningParams(min_prc=20), ...} смесь кастомного и дефолтного\n",
       "                биннинга для разных переменных.\n",
       "\n",
       "Последовательность операций:\n",
       "    1. Мэппинг старых значений на новый, если задан словарь мэппинга\n",
       "    2. Биннинг, если необходим\n",
       "    3. Замена пустых значений на спец. значение MISSING\n",
       "\n",
       "Returns:\n",
       "    DataFrame\n",
       "\u001b[31mFile:\u001b[39m      ~/Documents/repos/analyzer/analyzer/preprocessing/preprocess.py\n",
       "\u001b[31mType:\u001b[39m      function"
      ]
     },
     "metadata": {},
     "output_type": "display_data"
    }
   ],
   "source": [
    "?preprocess_df"
   ]
  },
  {
   "cell_type": "code",
   "execution_count": 14,
   "id": "ccf787a0-65e4-4a07-83e5-2ee272b63124",
   "metadata": {},
   "outputs": [
    {
     "name": "stderr",
     "output_type": "stream",
     "text": [
      "100%|███████████████████████████████████████████████████████████████████████████████████████████████████████████████████████████████████████████████| Бинаризация переменных, 6/6 [00:00<00:00, 211.99it/s]\n"
     ]
    },
    {
     "data": {
      "text/html": [
       "<div>\n",
       "<style scoped>\n",
       "    .dataframe tbody tr th:only-of-type {\n",
       "        vertical-align: middle;\n",
       "    }\n",
       "\n",
       "    .dataframe tbody tr th {\n",
       "        vertical-align: top;\n",
       "    }\n",
       "\n",
       "    .dataframe thead th {\n",
       "        text-align: right;\n",
       "    }\n",
       "</style>\n",
       "<table border=\"1\" class=\"dataframe\">\n",
       "  <thead>\n",
       "    <tr style=\"text-align: right;\">\n",
       "      <th></th>\n",
       "      <th>PassengerId</th>\n",
       "      <th>Survived</th>\n",
       "      <th>Pclass</th>\n",
       "      <th>Name</th>\n",
       "      <th>Sex</th>\n",
       "      <th>Age</th>\n",
       "      <th>SibSp</th>\n",
       "      <th>Parch</th>\n",
       "      <th>Ticket</th>\n",
       "      <th>Fare</th>\n",
       "      <th>Cabin</th>\n",
       "      <th>Embarked</th>\n",
       "    </tr>\n",
       "  </thead>\n",
       "  <tbody>\n",
       "    <tr>\n",
       "      <th>0</th>\n",
       "      <td>&lt;= 183</td>\n",
       "      <td>0</td>\n",
       "      <td>&gt; 2</td>\n",
       "      <td>Braund, Mr. Owen Harris</td>\n",
       "      <td>male</td>\n",
       "      <td>(18.5; 26.5]</td>\n",
       "      <td>&gt; 0</td>\n",
       "      <td>&lt;= 0</td>\n",
       "      <td>A/5 21171</td>\n",
       "      <td>&lt;= 7.883349895477295</td>\n",
       "      <td>__MISSING__</td>\n",
       "      <td>S</td>\n",
       "    </tr>\n",
       "    <tr>\n",
       "      <th>1</th>\n",
       "      <td>&lt;= 183</td>\n",
       "      <td>1</td>\n",
       "      <td>&lt;= 1</td>\n",
       "      <td>Cumings, Mrs. John Bradley (Florence Briggs Th...</td>\n",
       "      <td>female</td>\n",
       "      <td>&gt; 36.25</td>\n",
       "      <td>&gt; 0</td>\n",
       "      <td>&lt;= 0</td>\n",
       "      <td>PC 17599</td>\n",
       "      <td>&gt; 52.277099609375</td>\n",
       "      <td>C85</td>\n",
       "      <td>C</td>\n",
       "    </tr>\n",
       "    <tr>\n",
       "      <th>2</th>\n",
       "      <td>&lt;= 183</td>\n",
       "      <td>1</td>\n",
       "      <td>&gt; 2</td>\n",
       "      <td>Heikkinen, Miss. Laina</td>\n",
       "      <td>female</td>\n",
       "      <td>(18.5; 26.5]</td>\n",
       "      <td>&lt;= 0</td>\n",
       "      <td>&lt;= 0</td>\n",
       "      <td>STON/O2. 3101282</td>\n",
       "      <td>(7.883349895477295; 10.481249809265137]</td>\n",
       "      <td>__MISSING__</td>\n",
       "      <td>S</td>\n",
       "    </tr>\n",
       "    <tr>\n",
       "      <th>3</th>\n",
       "      <td>&lt;= 183</td>\n",
       "      <td>1</td>\n",
       "      <td>&lt;= 1</td>\n",
       "      <td>Futrelle, Mrs. Jacques Heath (Lily May Peel)</td>\n",
       "      <td>female</td>\n",
       "      <td>(26.5; 36.25]</td>\n",
       "      <td>&gt; 0</td>\n",
       "      <td>&lt;= 0</td>\n",
       "      <td>113803</td>\n",
       "      <td>&gt; 52.277099609375</td>\n",
       "      <td>C123</td>\n",
       "      <td>S</td>\n",
       "    </tr>\n",
       "    <tr>\n",
       "      <th>4</th>\n",
       "      <td>&lt;= 183</td>\n",
       "      <td>0</td>\n",
       "      <td>&gt; 2</td>\n",
       "      <td>Allen, Mr. William Henry</td>\n",
       "      <td>male</td>\n",
       "      <td>(26.5; 36.25]</td>\n",
       "      <td>&lt;= 0</td>\n",
       "      <td>&lt;= 0</td>\n",
       "      <td>373450</td>\n",
       "      <td>(7.883349895477295; 10.481249809265137]</td>\n",
       "      <td>__MISSING__</td>\n",
       "      <td>S</td>\n",
       "    </tr>\n",
       "  </tbody>\n",
       "</table>\n",
       "</div>"
      ],
      "text/plain": [
       "  PassengerId  Survived Pclass  \\\n",
       "0      <= 183         0    > 2   \n",
       "1      <= 183         1   <= 1   \n",
       "2      <= 183         1    > 2   \n",
       "3      <= 183         1   <= 1   \n",
       "4      <= 183         0    > 2   \n",
       "\n",
       "                                                Name     Sex            Age  \\\n",
       "0                            Braund, Mr. Owen Harris    male   (18.5; 26.5]   \n",
       "1  Cumings, Mrs. John Bradley (Florence Briggs Th...  female        > 36.25   \n",
       "2                             Heikkinen, Miss. Laina  female   (18.5; 26.5]   \n",
       "3       Futrelle, Mrs. Jacques Heath (Lily May Peel)  female  (26.5; 36.25]   \n",
       "4                           Allen, Mr. William Henry    male  (26.5; 36.25]   \n",
       "\n",
       "  SibSp Parch            Ticket                                     Fare  \\\n",
       "0   > 0  <= 0         A/5 21171                     <= 7.883349895477295   \n",
       "1   > 0  <= 0          PC 17599                        > 52.277099609375   \n",
       "2  <= 0  <= 0  STON/O2. 3101282  (7.883349895477295; 10.481249809265137]   \n",
       "3   > 0  <= 0            113803                        > 52.277099609375   \n",
       "4  <= 0  <= 0            373450  (7.883349895477295; 10.481249809265137]   \n",
       "\n",
       "         Cabin Embarked  \n",
       "0  __MISSING__        S  \n",
       "1          C85        C  \n",
       "2  __MISSING__        S  \n",
       "3         C123        S  \n",
       "4  __MISSING__        S  "
      ]
     },
     "execution_count": 14,
     "metadata": {},
     "output_type": "execute_result"
    }
   ],
   "source": [
    "processed_df = preprocess_df(df, target_name='Survived', binning=True)\n",
    "processed_df.head()"
   ]
  },
  {
   "cell_type": "code",
   "execution_count": null,
   "id": "957b8d26-1b5c-4c1a-bfb8-916c881bc5fb",
   "metadata": {},
   "outputs": [],
   "source": []
  }
 ],
 "metadata": {
  "kernelspec": {
   "display_name": "Python 3 (ipykernel)",
   "language": "python",
   "name": "python3"
  },
  "language_info": {
   "codemirror_mode": {
    "name": "ipython",
    "version": 3
   },
   "file_extension": ".py",
   "mimetype": "text/x-python",
   "name": "python",
   "nbconvert_exporter": "python",
   "pygments_lexer": "ipython3",
   "version": "3.13.2"
  }
 },
 "nbformat": 4,
 "nbformat_minor": 5
}
